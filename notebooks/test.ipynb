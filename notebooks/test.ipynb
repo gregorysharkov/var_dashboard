{
 "cells": [
  {
   "cell_type": "code",
   "execution_count": 3,
   "metadata": {},
   "outputs": [
    {
     "data": {
      "text/html": [
       "<div>\n",
       "<style scoped>\n",
       "    .dataframe tbody tr th:only-of-type {\n",
       "        vertical-align: middle;\n",
       "    }\n",
       "\n",
       "    .dataframe tbody tr th {\n",
       "        vertical-align: top;\n",
       "    }\n",
       "\n",
       "    .dataframe thead th {\n",
       "        text-align: right;\n",
       "    }\n",
       "</style>\n",
       "<table border=\"1\" class=\"dataframe\">\n",
       "  <thead>\n",
       "    <tr style=\"text-align: right;\">\n",
       "      <th></th>\n",
       "      <th>Factor 1</th>\n",
       "      <th>Factor 2</th>\n",
       "      <th>Factor 3</th>\n",
       "    </tr>\n",
       "  </thead>\n",
       "  <tbody>\n",
       "    <tr>\n",
       "      <th>0</th>\n",
       "      <td>100</td>\n",
       "      <td>200</td>\n",
       "      <td>300</td>\n",
       "    </tr>\n",
       "    <tr>\n",
       "      <th>1</th>\n",
       "      <td>105</td>\n",
       "      <td>205</td>\n",
       "      <td>305</td>\n",
       "    </tr>\n",
       "    <tr>\n",
       "      <th>2</th>\n",
       "      <td>110</td>\n",
       "      <td>210</td>\n",
       "      <td>310</td>\n",
       "    </tr>\n",
       "    <tr>\n",
       "      <th>3</th>\n",
       "      <td>115</td>\n",
       "      <td>215</td>\n",
       "      <td>315</td>\n",
       "    </tr>\n",
       "    <tr>\n",
       "      <th>4</th>\n",
       "      <td>120</td>\n",
       "      <td>220</td>\n",
       "      <td>320</td>\n",
       "    </tr>\n",
       "  </tbody>\n",
       "</table>\n",
       "</div>"
      ],
      "text/plain": [
       "   Factor 1  Factor 2  Factor 3\n",
       "0       100       200       300\n",
       "1       105       205       305\n",
       "2       110       210       310\n",
       "3       115       215       315\n",
       "4       120       220       320"
      ]
     },
     "execution_count": 3,
     "metadata": {},
     "output_type": "execute_result"
    }
   ],
   "source": [
    "import pandas as pd\n",
    "import numpy as np\n",
    "\n",
    "factor_prices = pd.DataFrame(\n",
    "    {\n",
    "        \"Factor 1\": [100, 105, 110, 115, 120],\n",
    "        \"Factor 2\": [200, 205, 210, 215, 220],\n",
    "        \"Factor 3\": [300, 305, 310, 315, 320],\n",
    "    },\n",
    "    index=range(5),\n",
    ")\n",
    "factor_prices.head()"
   ]
  },
  {
   "cell_type": "code",
   "execution_count": 5,
   "metadata": {},
   "outputs": [
    {
     "name": "stdout",
     "output_type": "stream",
     "text": [
      "   Factor 1  Factor 2  Factor 3\n",
      "1  0.048790  0.024693  0.016529\n",
      "2  0.046520  0.024098  0.016261\n",
      "3  0.044452  0.023530  0.016000\n",
      "4  0.042560  0.022990  0.015748\n"
     ]
    }
   ],
   "source": [
    "log_returns = np.log(factor_prices / factor_prices.shift(1))\n",
    "print(log_returns.dropna()) # type: ignore"
   ]
  },
  {
   "cell_type": "code",
   "execution_count": 6,
   "metadata": {},
   "outputs": [
    {
     "data": {
      "text/html": [
       "<div>\n",
       "<style scoped>\n",
       "    .dataframe tbody tr th:only-of-type {\n",
       "        vertical-align: middle;\n",
       "    }\n",
       "\n",
       "    .dataframe tbody tr th {\n",
       "        vertical-align: top;\n",
       "    }\n",
       "\n",
       "    .dataframe thead th {\n",
       "        text-align: right;\n",
       "    }\n",
       "</style>\n",
       "<table border=\"1\" class=\"dataframe\">\n",
       "  <thead>\n",
       "    <tr style=\"text-align: right;\">\n",
       "      <th></th>\n",
       "      <th>Factor 1</th>\n",
       "      <th>Factor 2</th>\n",
       "      <th>Factor 3</th>\n",
       "    </tr>\n",
       "  </thead>\n",
       "  <tbody>\n",
       "    <tr>\n",
       "      <th>Factor 1</th>\n",
       "      <td>NaN</td>\n",
       "      <td>NaN</td>\n",
       "      <td>NaN</td>\n",
       "    </tr>\n",
       "    <tr>\n",
       "      <th>Factor 2</th>\n",
       "      <td>NaN</td>\n",
       "      <td>NaN</td>\n",
       "      <td>NaN</td>\n",
       "    </tr>\n",
       "    <tr>\n",
       "      <th>Factor 3</th>\n",
       "      <td>NaN</td>\n",
       "      <td>NaN</td>\n",
       "      <td>NaN</td>\n",
       "    </tr>\n",
       "  </tbody>\n",
       "</table>\n",
       "</div>"
      ],
      "text/plain": [
       "          Factor 1  Factor 2  Factor 3\n",
       "Factor 1       NaN       NaN       NaN\n",
       "Factor 2       NaN       NaN       NaN\n",
       "Factor 3       NaN       NaN       NaN"
      ]
     },
     "execution_count": 6,
     "metadata": {},
     "output_type": "execute_result"
    }
   ],
   "source": [
    "position_matrix = log_returns.T @ log_returns\n",
    "position_matrix"
   ]
  },
  {
   "cell_type": "code",
   "execution_count": 3,
   "metadata": {},
   "outputs": [],
   "source": [
    "from dataclasses import dataclass\n",
    "from functools import cached_property\n",
    "from typing import Any\n",
    "\n",
    "@dataclass\n",
    "class PortfolioVarCalculator:\n",
    "    '''\n",
    "    class is responsible for calculation of different types\n",
    "    of vars of elements that constiture the portfolio\n",
    "    It has the following public methods:\n",
    "        portfolio_var: returns portfolio var for given quantile\n",
    "        isolated_var: returns isolated var for given quantile\n",
    "        component_var: returns component var for given quantile\n",
    "        incremental_var: returns all incremental vars for each asset\n",
    "\n",
    "    Class attributes:\n",
    "        prices_table: a dataframe that contains prices of all positions\n",
    "        positions_table: a dataframe containing all\n",
    "            positions of a given portfolio\n",
    "    '''\n",
    "    prices_table: pd.DataFrame\n",
    "    positions_table: pd.DataFrame\n",
    "\n",
    "    def __post_init__(self):\n",
    "        # make sure that prices table consits only of factors\n",
    "        # that are relevant for the given positions table\n",
    "        var_tickers = self.positions_table['VaRTicker'].unique()\n",
    "        self.prices_table = self.prices_table.loc[:, var_tickers] # type: ignore\n",
    "\n",
    "    def portfolio_var(self, quantile: float) -> float:\n",
    "        '''returns portfolio var for given quantile'''\n",
    "        return self._portfolio_std * quantile\n",
    "\n",
    "    def isolated_var(self, quantile: float) -> pd.Series:\n",
    "        '''returns isolated var for given quantile'''\n",
    "        return self._position_std * quantile\n",
    "\n",
    "    def component_var(self, quantile: float) -> pd.Series:\n",
    "        '''returns component var for given quantile'''\n",
    "        return self._position_weights * self.portfolio_var(quantile)\n",
    "\n",
    "    def incremental_var(self, quantile: float) -> pd.Series:\n",
    "        '''returns all incremental vars for each asset'''\n",
    "\n",
    "        return pd.Series(\n",
    "            {\n",
    "                ticker: self._ticker_incremental_var(ticker, quantile)\n",
    "                for ticker in self._var_tickers\n",
    "            }\n",
    "        )\n",
    "\n",
    "    @cached_property\n",
    "    def _positions(self) -> pd.DataFrame:\n",
    "        '''aggregated position exposure for each varTicker'''\n",
    "        return self.positions_table\\\n",
    "            .groupby('VaRTicker')\\\n",
    "            .agg({'Exposure': 'sum'})\n",
    "\n",
    "    @cached_property\n",
    "    def _position_weights(self) -> pd.Series:\n",
    "        '''returns position weights in the portfolio'''\n",
    "        return self._positions.Exposure / self._positions.Exposure.sum()\n",
    "\n",
    "    @cached_property\n",
    "    def _position_returns(self) -> pd.DataFrame:\n",
    "        '''returns daily returns of the portfolio'''\n",
    "        return (\n",
    "            (self.prices_table.shift(1) - self.prices_table)\n",
    "            / self.prices_table.shift(1)\n",
    "        )\\\n",
    "            .dropna()\n",
    "\n",
    "    @cached_property\n",
    "    def _return_covariance(self) -> pd.DataFrame:\n",
    "        '''returns covariance matrix of the portfolio'''\n",
    "        return self._position_returns.cov()\n",
    "\n",
    "    @cached_property\n",
    "    def _portfolio_std(self) -> float:\n",
    "        '''returns standard deviation of the portfolio'''\n",
    "        return np.sqrt(\n",
    "            self._position_weights.T\n",
    "            @ self._return_covariance\n",
    "            @ self._position_weights\n",
    "        )  # type: ignore\n",
    "\n",
    "    @property\n",
    "    def _var_tickers(self) -> pd.Series:\n",
    "        '''returns var tickers'''\n",
    "        return self._positions.index.to_series()\n",
    "\n",
    "    @cached_property\n",
    "    def _position_std(self) -> pd.Series:\n",
    "        '''returns standard deviation of the portfolio positions'''\n",
    "        return self._position_returns.std()\n",
    "\n",
    "    @cached_property\n",
    "    def _isolated_calculators(self) -> dict[str, Any]:\n",
    "        '''returns isolated var calculators for each ticker'''\n",
    "\n",
    "        return_dict = {}\n",
    "        for ticker in self._var_tickers:\n",
    "            incremental_positions = self.positions_table.loc[\n",
    "                self.positions_table.VaRTicker != ticker, :\n",
    "            ]\n",
    "            return_dict[ticker] = PortfolioVarCalculator(\n",
    "                prices_table=self.prices_table,\n",
    "                positions_table=incremental_positions,\n",
    "            )\n",
    "\n",
    "        return return_dict\n",
    "\n",
    "    def _ticker_incremental_var(\n",
    "        self,\n",
    "        ticker: str,\n",
    "        quantile: float\n",
    "    ) -> pd.Series:\n",
    "        '''returns incremental var for a given ticker for given quantile'''\n",
    "\n",
    "        return self.portfolio_var(quantile) \\\n",
    "            - self._isolated_calculators[ticker].portfolio_var(quantile)\n"
   ]
  },
  {
   "cell_type": "code",
   "execution_count": 4,
   "metadata": {},
   "outputs": [
    {
     "name": "stdout",
     "output_type": "stream",
     "text": [
      "0.12099738250089814\n"
     ]
    },
    {
     "data": {
      "text/plain": [
       "Fund    VaRTicker\n",
       "Fund 1  Asset 1     -0.75\n",
       "        Asset 2      1.25\n",
       "Fund 2  Asset 1     -0.50\n",
       "        Asset 3      1.00\n",
       "Name: Weight, dtype: float64"
      ]
     },
     "execution_count": 4,
     "metadata": {},
     "output_type": "execute_result"
    }
   ],
   "source": [
    "import pandas as pd\n",
    "import numpy as np\n",
    "from scipy.stats import norm\n",
    "\n",
    "\n",
    "# Define prices and positions data\n",
    "prices_data = pd.DataFrame(\n",
    "    {\n",
    "        \"Asset 1\": [100, 106, 116, 123, 125, 133, 133, 124, 126, 121],\n",
    "        \"Asset 2\": [200, 200, 200, 201, 199, 199, 196, 195, 195, 196],\n",
    "        \"Asset 3\": [300, 310, 304, 311, 318, 315, 307, 315, 308, 311],\n",
    "    },\n",
    "    index=range(10),\n",
    ")\n",
    "\n",
    "positions_data = pd.DataFrame(\n",
    "    {\n",
    "        'VaRTicker': ['Asset 1', 'Asset 2', 'Asset 3', 'Asset 1'],\n",
    "        'Exposure': [-300, 500, 400, -200],\n",
    "        'Fund': ['Fund 1', 'Fund 1', 'Fund 2', 'Fund 2']\n",
    "    }\n",
    ")\n",
    "\n",
    "quantile = norm.ppf(0.95)\n",
    "portfolio_var_calculator = PortfolioVarCalculator(prices_data, positions_data)\n",
    "portfolio_var = portfolio_var_calculator.portfolio_var(quantile=quantile)\n",
    "print(f'{portfolio_var}')\n",
    "\n",
    "\n",
    "log_returns = np.log(prices_data / prices_data.shift(1)).dropna() # type: ignore\n",
    "return_covariance = log_returns.cov()\n",
    "\n",
    "groupped_exposure = positions_data.groupby(['Fund', 'VaRTicker']).agg({'Exposure': 'sum'})\n",
    "groupped_exposure['Weight'] = groupped_exposure.Exposure / groupped_exposure.Exposure.sum()\n",
    "groupped_exposure.Weight"
   ]
  },
  {
   "cell_type": "code",
   "execution_count": 6,
   "metadata": {},
   "outputs": [
    {
     "name": "stdout",
     "output_type": "stream",
     "text": [
      "Covariance for fund: Fund 1:\n",
      "          Asset 1   Asset 2\n",
      "Asset 1  0.002729  0.000089\n",
      "Asset 2  0.000089  0.000045\n",
      "Fund std: 0.037940\n",
      "Covariance for fund: Fund 2:\n",
      "          Asset 1   Asset 3\n",
      "Asset 1  0.002729 -0.000258\n",
      "Asset 3 -0.000258  0.000542\n",
      "Fund std: 0.038505\n",
      "fund_stds*quantile=Fund 1    0.062406\n",
      "Fund 2    0.063334\n",
      "dtype: float64\n",
      "fund_weights=Fund\n",
      "Fund 1    0.5\n",
      "Fund 2    0.5\n",
      "Name: Weight, dtype: float64\n",
      "Fund\n",
      "Fund 1    0.060499\n",
      "Fund 2    0.060499\n",
      "Name: Weight, dtype: float64\n"
     ]
    }
   ],
   "source": [
    "funds = groupped_exposure.index.levels[0]\n",
    "fund_stds = pd.Series()\n",
    "for fund in funds:\n",
    "    fund_exposure = groupped_exposure.loc[fund].Weight\n",
    "    fund_positions = list(fund_exposure.index)\n",
    "    fund_covariance = return_covariance.loc[fund_positions, fund_positions]\n",
    "\n",
    "    print(f'Covariance for fund: {fund}:\\n{fund_covariance}')\n",
    "    fund_std = (fund_exposure.T @ fund_covariance @ fund_exposure) ** .5\n",
    "    print(f'Fund std: {fund_std:.6f}')\n",
    "    fund_stds[fund] = fund_std\n",
    "\n",
    "\n",
    "fund_weights = groupped_exposure.groupby(level=0).Weight.sum()\n",
    "print(f'{fund_stds*quantile=}')\n",
    "print(f'{fund_weights=}')\n",
    "\n",
    "print(f'{portfolio_var * fund_weights}')\n"
   ]
  },
  {
   "cell_type": "code",
   "execution_count": 10,
   "metadata": {},
   "outputs": [
    {
     "name": "stdout",
     "output_type": "stream",
     "text": [
      "Index(['Fund 1', 'Fund 2'], dtype='object', name='Fund')\n",
      "Index(['Asset 1', 'Asset 2', 'Asset 3'], dtype='object', name='VaRTicker')\n"
     ]
    }
   ],
   "source": [
    "print(groupped_exposure.index.levels[0])\n",
    "print(groupped_exposure.index.levels[1])"
   ]
  },
  {
   "cell_type": "code",
   "execution_count": 13,
   "metadata": {},
   "outputs": [
    {
     "data": {
      "text/plain": [
       "array(['Asset 1', 'Asset 2'], dtype=object)"
      ]
     },
     "execution_count": 13,
     "metadata": {},
     "output_type": "execute_result"
    }
   ],
   "source": [
    "groupped_exposure.loc['Fund 1'].index.values"
   ]
  }
 ],
 "metadata": {
  "kernelspec": {
   "display_name": "var_dashoard",
   "language": "python",
   "name": "python3"
  },
  "language_info": {
   "codemirror_mode": {
    "name": "ipython",
    "version": 3
   },
   "file_extension": ".py",
   "mimetype": "text/x-python",
   "name": "python",
   "nbconvert_exporter": "python",
   "pygments_lexer": "ipython3",
   "version": "3.9.5"
  }
 },
 "nbformat": 4,
 "nbformat_minor": 2
}
